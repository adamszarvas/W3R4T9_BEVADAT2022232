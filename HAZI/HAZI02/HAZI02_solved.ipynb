{
 "cells": [
  {
   "cell_type": "code",
   "execution_count": null,
   "metadata": {},
   "outputs": [],
   "source": [
    "import numpy as np\n",
    "import cv2\n",
    "\n",
    "arr = np.array([[1,2,3,4],[6,7,8,9]])"
   ]
  },
  {
   "cell_type": "code",
   "execution_count": null,
   "metadata": {},
   "outputs": [],
   "source": [
    "# Írj egy olyan fügvényt, ami megfordítja egy 2d array oszlopait\n",
    "# Be: [[1,2],[3,4]]\n",
    "# Ki: [[2,1],[4,3]]\n",
    "# column_swap()\n",
    "\n",
    "def column_swap(array : np.array) -> np.array:\n",
    "    return array[:, ::-1]\n",
    "\n",
    "#print(column_swap(arr))"
   ]
  },
  {
   "cell_type": "code",
   "execution_count": null,
   "metadata": {},
   "outputs": [],
   "source": [
    "#Készíts egy olyan függvényt ami összehasonlít két array-t és adjon vissza egy array-ben, hogy hol egyenlőek \n",
    "# Pl Be: [7,8,9], [9,8,7] \n",
    "# Ki: [1]\n",
    "# compare_two_array()\n",
    "# egyenlő elemszámúakra kell csak hogy működjön\n",
    "\n",
    "def compare_two_array(a : np.array, b : np.array) -> np.array:\n",
    "    return np.where(a == b)\n",
    "\n",
    "arr = compare_two_array(np.array([1,2,3,4,5]),np.array([1,3,2,4,5]))\n",
    "print(arr)"
   ]
  },
  {
   "cell_type": "code",
   "execution_count": null,
   "metadata": {},
   "outputs": [],
   "source": [
    "#Készíts egy olyan függvényt, ami vissza adja a megadott array dimenzióit:\n",
    "# Be: [[1,2,3], [4,5,6]]\n",
    "# Ki: \"sor: 2, oszlop: 3, melyseg: 1\"\n",
    "# get_array_shape()\n",
    "# 3D-vel még műküdnie kell!\n",
    "\n",
    "def get_array_shape(array : np.array) -> str:\n",
    "    shape = np.array(array, ndmin=3).shape\n",
    "    return \"\"\"sor: %s, oszlop: %s, melyseg: %s\"\"\" % (shape[0], shape[1], shape[2])\n",
    "\n",
    "input_list_3 = [np.random.randint(5,size=(2,3,4)),np.random.randint(2,size=(1,2)),np.random.randint(10,size=(3))]\n",
    "\n",
    "\n",
    "\n",
    "a = get_array_shape(cv2.imread(\"C:\\\\Users\\\\nando\\Desktop\\\\NEN.jpg\"))\n",
    "a = get_array_shape(input_list_3[0])\n",
    "print(a)\n",
    "print(type(a))"
   ]
  },
  {
   "cell_type": "code",
   "execution_count": null,
   "metadata": {},
   "outputs": [],
   "source": [
    "# Készíts egy olyan függvényt, aminek segítségével elő tudod állítani egy neurális hálózat tanításához szükséges Y-okat egy numpy array-ből. \n",
    "#Bementként add meg az array-t, illetve hogy mennyi class-od van. Kimenetként pedig adjon vissza egy 2d array-t, ahol a sorok az egyes elemek. Minden nullákkal teli legyen és csak ott álljon egyes, ahol a bementi tömb megjelöli\n",
    "# Be: [1, 2, 0, 3], 4\n",
    "# Ki: [[0,1,0,0], [0, 0, 1, 0], [1, 0, 0, 0], [0, 0, 0, 1]]\n",
    "# encode_Y()\n",
    "\n",
    "def encode_Y(array: np.array, class_number) -> np.array:\n",
    "    one_hot = np.zeros((array.size, class_number))\n",
    "    one_hot[np.arange(array.size), array] = 1\n",
    "\n",
    "    return one_hot\n",
    "\n",
    "arr = encode_Y(np.array([1, 0, 3]), 4)\n",
    "print(arr)"
   ]
  },
  {
   "cell_type": "code",
   "execution_count": null,
   "metadata": {},
   "outputs": [],
   "source": [
    "# A fenti feladatnak valósítsd meg a kiértékelését. Adj meg a 2d array-t és adj vissza a decodolt változatát\n",
    "# Be:  [[0,1,0,0], [0, 0, 1, 0], [1, 0, 0, 0], [0, 0, 0, 1]]\n",
    "# Ki:  [1, 2, 0, 3]\n",
    "# decode_Y()\n",
    "\n",
    "def decode_Y(array :np.array) -> np.array:\n",
    "    return np.argmax(array, axis=1)\n",
    "\n",
    "print(decode_Y(arr))"
   ]
  },
  {
   "cell_type": "code",
   "execution_count": null,
   "metadata": {},
   "outputs": [],
   "source": [
    "# Készíts egy olyan függvényt, ami képes kiértékelni egy neurális háló eredményét! Bemenetként egy listát és egy array-t és adja vissza a legvalószínübb element a listából.\n",
    "# Be: ['alma', 'körte', 'szilva'], [0.2, 0.2, 0.6]. \n",
    "# Ki: 'szilva'\n",
    "# eval_classification()\n",
    "\n",
    "def eval_classification(classes : list, pred : np.array) -> str:\n",
    "    x = np.argmax(pred)\n",
    "    return classes[x]\n",
    "\n",
    "n = eval_classification( ['alma', 'körte', 'szilva'], np.array([0.2, 0.2, 0.6]))\n",
    "print(n)\n",
    "    "
   ]
  },
  {
   "cell_type": "code",
   "execution_count": null,
   "metadata": {},
   "outputs": [],
   "source": [
    "# Készíts egy olyan függvényt, ahol az 1D array-ben a páratlan számokat -1-re cseréli\n",
    "# Be: [1,2,3,4,5,6]\n",
    "# Ki: [-1,2,-1,4,-1,6]\n",
    "# replace_odd_numbers()\n",
    "\n",
    "def replace_odd_numbers(array: np.array) -> np.array:\n",
    "    array[array % 2 != 0] = -1\n",
    "    return array\n",
    "\n",
    "print(replace_odd_numbers(np.array([1,2,3,4,5,6])))"
   ]
  },
  {
   "cell_type": "code",
   "execution_count": null,
   "metadata": {},
   "outputs": [],
   "source": [
    "# Készíts egy olyan függvényt, ami egy array értékeit -1 és 1-re változtatja, attól függően, hogy az adott elem nagyobb vagy kisebb a paraméterként megadott számnál.\n",
    "# Ha a szám kisebb mint a megadott érték, akkor -1, ha nagyobb vagy egyenlő, akkor pedig 1.\n",
    "# Be: [1, 2, 5, 0], 2\n",
    "# Ki: [-1, 1, 1, -1]\n",
    "# replace_by_value()\n",
    "\n",
    "def replace_values(array: np.array, value):\n",
    "    array[array < value] = -1\n",
    "    array[array >= value] = 1\n",
    "\n",
    "    return array \n",
    "\n",
    "#print(replace_values(np.random.rand(3, 5, 5), 0.5))\n",
    "a = replace_values(np.array([1,2,3,4,5,6]), 3)\n",
    "print(a)\n",
    "print(type(a))"
   ]
  },
  {
   "cell_type": "code",
   "execution_count": null,
   "metadata": {},
   "outputs": [],
   "source": [
    "# Készítsd egy olyan függvényt, ami az array értékeit összeszorozza és az eredmény visszaadja\n",
    "# Be: [1,2,3,4]\n",
    "# Ki: 24\n",
    "# array_multi()\n",
    "# Ha több dimenziós a tömb, akkor az egész tömb elemeinek szorzatával térjen vissza\n",
    "\n",
    "def array_multi(array: np.array) -> int:\n",
    "    return np.prod(array)\n",
    "\n",
    "print(array_multi(np.array([[1,2,3,4], [1,2,3,4]])))"
   ]
  },
  {
   "cell_type": "code",
   "execution_count": null,
   "metadata": {},
   "outputs": [],
   "source": [
    "# Készítsd egy olyan függvényt, ami a 2D array értékeit összeszorozza és egy olyan array-el tér vissza, aminek az elemei a soroknak a szorzata\n",
    "# Be: [[1, 2], [3, 4]]\n",
    "# Ki: [2, 12]\n",
    "# array_multi_2d()\n",
    "\n",
    "def array_multi_2d(array: np.array) -> np.array:\n",
    "    return np.prod(array, axis=1)\n",
    "\n",
    "print(array_multi_2d(np.array([[1,2,3,4], [1,2,3,3]])))"
   ]
  },
  {
   "cell_type": "code",
   "execution_count": null,
   "metadata": {},
   "outputs": [],
   "source": [
    "# Készíts egy olyan függvényt, amit egy meglévő numpy array-hez készít egy bordert nullásokkal. Bementként egy array-t várjon és kimenetként egy array jelenjen meg aminek van border-je\n",
    "# Be: [[1,2],[3,4]]\n",
    "# Ki: [[0,0,0,0],[0,1,2,0],[0,3,4,0],[0,0,0,0]]\n",
    "# add_border()\n",
    "\n",
    "def add_border(array : np.array) -> np.array:\n",
    "    return np.pad(array, pad_width=1, mode='constant', constant_values=0)\n",
    "\n",
    "print(add_border(np.array([[1,2],[3,4]])))\n"
   ]
  },
  {
   "cell_type": "code",
   "execution_count": null,
   "metadata": {},
   "outputs": [],
   "source": [
    "# Készíts egy olyan függvényt ami két dátum között felsorolja az összes napot.\n",
    "# Be: '2023-03', '2023-04'\n",
    "# Ki: ['2023-03-01', '2023-03-02', .. , '2023-03-31',]\n",
    "# list_days()\n",
    "\n",
    "def list_days(start : str, end : str) -> np.array:\n",
    "    return np.arange(start, end, dtype='datetime64[D]')\n",
    "\n",
    "print(list_days('2023-01', '2023-02'))"
   ]
  },
  {
   "cell_type": "code",
   "execution_count": null,
   "metadata": {},
   "outputs": [],
   "source": [
    "# Írj egy fügvényt ami vissza adja az aktuális dátumot az alábbi formában: YYYY-MM-DD\n",
    "# Be:\n",
    "# Ki: 2017-03-24 \n",
    "\n",
    "def get_act_date():\n",
    "    return np.datetime64('today', 'D')\n",
    "\n",
    "print(get_act_date())\n"
   ]
  },
  {
   "cell_type": "code",
   "execution_count": null,
   "metadata": {},
   "outputs": [],
   "source": [
    "# Írj egy olyan függvényt ami visszadja, hogy mennyi másodperc telt el 1970 január 01. 00:02:00 óta. Int-el térjen vissza\n",
    "# Be: \n",
    "# Ki: másodpercben az idó, int-é kasztolva\n",
    "# sec_from_1970()\n",
    "from datetime import datetime\n",
    "\n",
    "def sec_from_1970() -> int:\n",
    "    date = datetime.utcnow()\n",
    "    date64 = np.datetime64(date)\n",
    "    ticktime = (date64 - np.datetime64('1970-01-01T00:00:00Z'))/ np.timedelta64(1, 's')\n",
    "    return int(ticktime) - 120\n",
    "\n",
    "print(sec_from_1970())\n"
   ]
  }
 ],
 "metadata": {
  "kernelspec": {
   "display_name": "Python 3",
   "language": "python",
   "name": "python3"
  },
  "language_info": {
   "codemirror_mode": {
    "name": "ipython",
    "version": 3
   },
   "file_extension": ".py",
   "mimetype": "text/x-python",
   "name": "python",
   "nbconvert_exporter": "python",
   "pygments_lexer": "ipython3",
   "version": "3.10.7"
  },
  "orig_nbformat": 4
 },
 "nbformat": 4,
 "nbformat_minor": 2
}
